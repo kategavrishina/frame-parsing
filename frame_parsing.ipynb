{
  "nbformat": 4,
  "nbformat_minor": 0,
  "metadata": {
    "colab": {
      "name": "frame-parser.ipynb",
      "provenance": [],
      "include_colab_link": true
    },
    "kernelspec": {
      "name": "python3",
      "display_name": "Python 3"
    },
    "accelerator": "GPU"
  },
  "cells": [
    {
      "cell_type": "markdown",
      "metadata": {
        "id": "view-in-github",
        "colab_type": "text"
      },
      "source": [
        "<a href=\"https://colab.research.google.com/github/kategavrishina/frame-parsing/blob/master/frame_parser.ipynb\" target=\"_parent\"><img src=\"https://colab.research.google.com/assets/colab-badge.svg\" alt=\"Open In Colab\"/></a>"
      ]
    },
    {
      "cell_type": "code",
      "metadata": {
        "id": "DP52BnPbqKjb",
        "colab_type": "code",
        "outputId": "32600cec-8149-4693-f921-01caa6c97d86",
        "colab": {
          "base_uri": "https://localhost:8080/",
          "height": 85
        }
      },
      "source": [
        "!pip install conllu==2.3.2"
      ],
      "execution_count": 0,
      "outputs": [
        {
          "output_type": "stream",
          "text": [
            "Collecting conllu==2.3.2\n",
            "  Downloading https://files.pythonhosted.org/packages/a8/03/4a952eb39cdc8da80a6a2416252e71784dda6bf9d726ab98065fff2aeb73/conllu-2.3.2-py2.py3-none-any.whl\n",
            "Installing collected packages: conllu\n",
            "Successfully installed conllu-2.3.2\n"
          ],
          "name": "stdout"
        }
      ]
    },
    {
      "cell_type": "code",
      "metadata": {
        "id": "h7rRJiSqft_P",
        "colab_type": "code",
        "colab": {}
      },
      "source": [
        "# !rm -rf frame-parsing"
      ],
      "execution_count": 0,
      "outputs": []
    },
    {
      "cell_type": "code",
      "metadata": {
        "id": "VLBSu3DYd5_n",
        "colab_type": "code",
        "outputId": "47b486bf-9a65-4e54-ca1d-5e4c3271c416",
        "colab": {
          "base_uri": "https://localhost:8080/",
          "height": 1000
        }
      },
      "source": [
        "%%time\n",
        "\n",
        "!git clone https://github.com/ufal/udpipe/\n",
        "\n",
        "%cd ./udpipe/src/\n",
        "!make\n",
        "\n",
        "!wget https://lindat.mff.cuni.cz/repository/xmlui/bitstream/handle/11234/1-3131/russian-syntagrus-ud-2.5-191206.udpipe?sequence=70&isAllowed=y\n",
        "!mv russian-syntagrus-ud-2.5-191206.udpipe?sequence=70 ru.udpipe\n",
        "\n",
        "%cd ../../\n",
        "\n",
        "!git clone https://github.com/brs1977/frame-parsing\n",
        "\n",
        "%cd frame-parsing\n",
        "\n",
        "!wget https://rocld.com/ma4hf\n",
        "!wget https://rocld.com/ma4hg\n",
        "\n",
        "!mkdir -p ./isa_parser/data/original_framebank/\n",
        "!mv ma4hf ./isa_parser/data/original_framebank/exampleindex.csv\n",
        "!mv ma4hg ./isa_parser/data/original_framebank/framebank_anno_ex_items_fixed.txt"
      ],
      "execution_count": 0,
      "outputs": [
        {
          "output_type": "stream",
          "text": [
            "Cloning into 'udpipe'...\n",
            "remote: Enumerating objects: 136, done.\u001b[K\n",
            "remote: Counting objects: 100% (136/136), done.\u001b[K\n",
            "remote: Compressing objects: 100% (98/98), done.\u001b[K\n",
            "remote: Total 4030 (delta 56), reused 91 (delta 37), pack-reused 3894\u001b[K\n",
            "Receiving objects: 100% (4030/4030), 1.81 MiB | 4.00 MiB/s, done.\n",
            "Resolving deltas: 100% (2824/2824), done.\n",
            "/content/udpipe/src\n",
            "g++ -o .build/udpipe.linux-gcc-normal.o -MMD -MP -std=c++11 -W -Wall -mtune=generic -msse -msse2 -mfpmath=sse -fvisibility=hidden -U_FORTIFY_SOURCE -O3 -I. -c udpipe.cpp\n",
            "g++ -o .build/utils-options.linux-gcc-normal.o -MMD -MP -std=c++11 -W -Wall -mtune=generic -msse -msse2 -mfpmath=sse -fvisibility=hidden -U_FORTIFY_SOURCE -O3 -I. -c utils/options.cpp\n",
            "g++ -o .build/morphodita-derivator-derivation_formatter.linux-gcc-normal.o -MMD -MP -std=c++11 -W -Wall -mtune=generic -msse -msse2 -mfpmath=sse -fvisibility=hidden -U_FORTIFY_SOURCE -O3 -I. -c morphodita/derivator/derivation_formatter.cpp\n",
            "g++ -o .build/morphodita-derivator-derivator_dictionary.linux-gcc-normal.o -MMD -MP -std=c++11 -W -Wall -mtune=generic -msse -msse2 -mfpmath=sse -fvisibility=hidden -U_FORTIFY_SOURCE -O3 -I. -c morphodita/derivator/derivator_dictionary.cpp\n",
            "g++ -o .build/morphodita-morpho-czech_morpho.linux-gcc-normal.o -MMD -MP -std=c++11 -W -Wall -mtune=generic -msse -msse2 -mfpmath=sse -fvisibility=hidden -U_FORTIFY_SOURCE -O3 -I. -c morphodita/morpho/czech_morpho.cpp\n",
            "g++ -o .build/morphodita-morpho-english_morpho.linux-gcc-normal.o -MMD -MP -std=c++11 -W -Wall -mtune=generic -msse -msse2 -mfpmath=sse -fvisibility=hidden -U_FORTIFY_SOURCE -O3 -I. -c morphodita/morpho/english_morpho.cpp\n",
            "g++ -o .build/morphodita-morpho-english_morpho_guesser.linux-gcc-normal.o -MMD -MP -std=c++11 -W -Wall -mtune=generic -msse -msse2 -mfpmath=sse -fvisibility=hidden -U_FORTIFY_SOURCE -O3 -I. -c morphodita/morpho/english_morpho_guesser.cpp\n",
            "g++ -o .build/morphodita-morpho-external_morpho.linux-gcc-normal.o -MMD -MP -std=c++11 -W -Wall -mtune=generic -msse -msse2 -mfpmath=sse -fvisibility=hidden -U_FORTIFY_SOURCE -O3 -I. -c morphodita/morpho/external_morpho.cpp\n",
            "g++ -o .build/morphodita-morpho-generic_morpho.linux-gcc-normal.o -MMD -MP -std=c++11 -W -Wall -mtune=generic -msse -msse2 -mfpmath=sse -fvisibility=hidden -U_FORTIFY_SOURCE -O3 -I. -c morphodita/morpho/generic_morpho.cpp\n",
            "g++ -o .build/morphodita-morpho-morpho.linux-gcc-normal.o -MMD -MP -std=c++11 -W -Wall -mtune=generic -msse -msse2 -mfpmath=sse -fvisibility=hidden -U_FORTIFY_SOURCE -O3 -I. -c morphodita/morpho/morpho.cpp\n",
            "g++ -o .build/morphodita-morpho-morpho_statistical_guesser.linux-gcc-normal.o -MMD -MP -std=c++11 -W -Wall -mtune=generic -msse -msse2 -mfpmath=sse -fvisibility=hidden -U_FORTIFY_SOURCE -O3 -I. -c morphodita/morpho/morpho_statistical_guesser.cpp\n",
            "g++ -o .build/morphodita-morpho-tag_filter.linux-gcc-normal.o -MMD -MP -std=c++11 -W -Wall -mtune=generic -msse -msse2 -mfpmath=sse -fvisibility=hidden -U_FORTIFY_SOURCE -O3 -I. -c morphodita/morpho/tag_filter.cpp\n",
            "g++ -o .build/morphodita-tagger-tagger.linux-gcc-normal.o -MMD -MP -std=c++11 -W -Wall -mtune=generic -msse -msse2 -mfpmath=sse -fvisibility=hidden -U_FORTIFY_SOURCE -O3 -I. -c morphodita/tagger/tagger.cpp\n",
            "g++ -o .build/morphodita-tagset_converter-identity_tagset_converter.linux-gcc-normal.o -MMD -MP -std=c++11 -W -Wall -mtune=generic -msse -msse2 -mfpmath=sse -fvisibility=hidden -U_FORTIFY_SOURCE -O3 -I. -c morphodita/tagset_converter/identity_tagset_converter.cpp\n",
            "g++ -o .build/morphodita-tagset_converter-pdt_to_conll2009_tagset_converter.linux-gcc-normal.o -MMD -MP -std=c++11 -W -Wall -mtune=generic -msse -msse2 -mfpmath=sse -fvisibility=hidden -U_FORTIFY_SOURCE -O3 -I. -c morphodita/tagset_converter/pdt_to_conll2009_tagset_converter.cpp\n",
            "g++ -o .build/morphodita-tagset_converter-strip_lemma_comment_tagset_converter.linux-gcc-normal.o -MMD -MP -std=c++11 -W -Wall -mtune=generic -msse -msse2 -mfpmath=sse -fvisibility=hidden -U_FORTIFY_SOURCE -O3 -I. -c morphodita/tagset_converter/strip_lemma_comment_tagset_converter.cpp\n",
            "g++ -o .build/morphodita-tagset_converter-strip_lemma_id_tagset_converter.linux-gcc-normal.o -MMD -MP -std=c++11 -W -Wall -mtune=generic -msse -msse2 -mfpmath=sse -fvisibility=hidden -U_FORTIFY_SOURCE -O3 -I. -c morphodita/tagset_converter/strip_lemma_id_tagset_converter.cpp\n",
            "g++ -o .build/morphodita-tagset_converter-tagset_converter.linux-gcc-normal.o -MMD -MP -std=c++11 -W -Wall -mtune=generic -msse -msse2 -mfpmath=sse -fvisibility=hidden -U_FORTIFY_SOURCE -O3 -I. -c morphodita/tagset_converter/tagset_converter.cpp\n",
            "g++ -o .build/morphodita-tokenizer-czech_tokenizer.linux-gcc-normal.o -MMD -MP -std=c++11 -W -Wall -mtune=generic -msse -msse2 -mfpmath=sse -fvisibility=hidden -U_FORTIFY_SOURCE -O3 -I. -c morphodita/tokenizer/czech_tokenizer.cpp\n",
            "g++ -o .build/morphodita-tokenizer-english_tokenizer.linux-gcc-normal.o -MMD -MP -std=c++11 -W -Wall -mtune=generic -msse -msse2 -mfpmath=sse -fvisibility=hidden -U_FORTIFY_SOURCE -O3 -I. -c morphodita/tokenizer/english_tokenizer.cpp\n",
            "g++ -o .build/morphodita-tokenizer-generic_tokenizer.linux-gcc-normal.o -MMD -MP -std=c++11 -W -Wall -mtune=generic -msse -msse2 -mfpmath=sse -fvisibility=hidden -U_FORTIFY_SOURCE -O3 -I. -c morphodita/tokenizer/generic_tokenizer.cpp\n",
            "g++ -o .build/morphodita-tokenizer-ragel_tokenizer.linux-gcc-normal.o -MMD -MP -std=c++11 -W -Wall -mtune=generic -msse -msse2 -mfpmath=sse -fvisibility=hidden -U_FORTIFY_SOURCE -O3 -I. -c morphodita/tokenizer/ragel_tokenizer.cpp\n",
            "g++ -o .build/morphodita-tokenizer-tokenizer.linux-gcc-normal.o -MMD -MP -std=c++11 -W -Wall -mtune=generic -msse -msse2 -mfpmath=sse -fvisibility=hidden -U_FORTIFY_SOURCE -O3 -I. -c morphodita/tokenizer/tokenizer.cpp\n",
            "g++ -o .build/morphodita-tokenizer-unicode_tokenizer.linux-gcc-normal.o -MMD -MP -std=c++11 -W -Wall -mtune=generic -msse -msse2 -mfpmath=sse -fvisibility=hidden -U_FORTIFY_SOURCE -O3 -I. -c morphodita/tokenizer/unicode_tokenizer.cpp\n",
            "g++ -o .build/morphodita-tokenizer-vertical_tokenizer.linux-gcc-normal.o -MMD -MP -std=c++11 -W -Wall -mtune=generic -msse -msse2 -mfpmath=sse -fvisibility=hidden -U_FORTIFY_SOURCE -O3 -I. -c morphodita/tokenizer/vertical_tokenizer.cpp\n",
            "g++ -o .build/morphodita-version-version.linux-gcc-normal.o -MMD -MP -std=c++11 -W -Wall -mtune=generic -msse -msse2 -mfpmath=sse -fvisibility=hidden -U_FORTIFY_SOURCE -O3 -I. -c morphodita/version/version.cpp\n",
            "g++ -o .build/parsito-configuration-configuration.linux-gcc-normal.o -MMD -MP -std=c++11 -W -Wall -mtune=generic -msse -msse2 -mfpmath=sse -fvisibility=hidden -U_FORTIFY_SOURCE -O3 -I. -c parsito/configuration/configuration.cpp\n",
            "g++ -o .build/parsito-configuration-node_extractor.linux-gcc-normal.o -MMD -MP -std=c++11 -W -Wall -mtune=generic -msse -msse2 -mfpmath=sse -fvisibility=hidden -U_FORTIFY_SOURCE -O3 -I. -c parsito/configuration/node_extractor.cpp\n",
            "g++ -o .build/parsito-configuration-value_extractor.linux-gcc-normal.o -MMD -MP -std=c++11 -W -Wall -mtune=generic -msse -msse2 -mfpmath=sse -fvisibility=hidden -U_FORTIFY_SOURCE -O3 -I. -c parsito/configuration/value_extractor.cpp\n",
            "g++ -o .build/parsito-embedding-embedding.linux-gcc-normal.o -MMD -MP -std=c++11 -W -Wall -mtune=generic -msse -msse2 -mfpmath=sse -fvisibility=hidden -U_FORTIFY_SOURCE -O3 -I. -c parsito/embedding/embedding.cpp\n",
            "g++ -o .build/parsito-network-neural_network.linux-gcc-normal.o -MMD -MP -std=c++11 -W -Wall -mtune=generic -msse -msse2 -mfpmath=sse -fvisibility=hidden -U_FORTIFY_SOURCE -O3 -I. -c parsito/network/neural_network.cpp\n",
            "g++ -o .build/parsito-parser-parser.linux-gcc-normal.o -MMD -MP -std=c++11 -W -Wall -mtune=generic -msse -msse2 -mfpmath=sse -fvisibility=hidden -U_FORTIFY_SOURCE -O3 -I. -c parsito/parser/parser.cpp\n",
            "g++ -o .build/parsito-parser-parser_nn.linux-gcc-normal.o -MMD -MP -std=c++11 -W -Wall -mtune=generic -msse -msse2 -mfpmath=sse -fvisibility=hidden -U_FORTIFY_SOURCE -O3 -I. -c parsito/parser/parser_nn.cpp\n",
            "g++ -o .build/parsito-transition-transition.linux-gcc-normal.o -MMD -MP -std=c++11 -W -Wall -mtune=generic -msse -msse2 -mfpmath=sse -fvisibility=hidden -U_FORTIFY_SOURCE -O3 -I. -c parsito/transition/transition.cpp\n",
            "g++ -o .build/parsito-transition-transition_system.linux-gcc-normal.o -MMD -MP -std=c++11 -W -Wall -mtune=generic -msse -msse2 -mfpmath=sse -fvisibility=hidden -U_FORTIFY_SOURCE -O3 -I. -c parsito/transition/transition_system.cpp\n",
            "g++ -o .build/parsito-transition-transition_system_link2.linux-gcc-normal.o -MMD -MP -std=c++11 -W -Wall -mtune=generic -msse -msse2 -mfpmath=sse -fvisibility=hidden -U_FORTIFY_SOURCE -O3 -I. -c parsito/transition/transition_system_link2.cpp\n",
            "g++ -o .build/parsito-transition-transition_system_projective.linux-gcc-normal.o -MMD -MP -std=c++11 -W -Wall -mtune=generic -msse -msse2 -mfpmath=sse -fvisibility=hidden -U_FORTIFY_SOURCE -O3 -I. -c parsito/transition/transition_system_projective.cpp\n",
            "g++ -o .build/parsito-transition-transition_system_swap.linux-gcc-normal.o -MMD -MP -std=c++11 -W -Wall -mtune=generic -msse -msse2 -mfpmath=sse -fvisibility=hidden -U_FORTIFY_SOURCE -O3 -I. -c parsito/transition/transition_system_swap.cpp\n",
            "g++ -o .build/parsito-tree-tree.linux-gcc-normal.o -MMD -MP -std=c++11 -W -Wall -mtune=generic -msse -msse2 -mfpmath=sse -fvisibility=hidden -U_FORTIFY_SOURCE -O3 -I. -c parsito/tree/tree.cpp\n",
            "g++ -o .build/parsito-tree-tree_format.linux-gcc-normal.o -MMD -MP -std=c++11 -W -Wall -mtune=generic -msse -msse2 -mfpmath=sse -fvisibility=hidden -U_FORTIFY_SOURCE -O3 -I. -c parsito/tree/tree_format.cpp\n",
            "g++ -o .build/parsito-tree-tree_format_conllu.linux-gcc-normal.o -MMD -MP -std=c++11 -W -Wall -mtune=generic -msse -msse2 -mfpmath=sse -fvisibility=hidden -U_FORTIFY_SOURCE -O3 -I. -c parsito/tree/tree_format_conllu.cpp\n",
            "g++ -o .build/parsito-version-version.linux-gcc-normal.o -MMD -MP -std=c++11 -W -Wall -mtune=generic -msse -msse2 -mfpmath=sse -fvisibility=hidden -U_FORTIFY_SOURCE -O3 -I. -c parsito/version/version.cpp\n",
            "g++ -o .build/unilib-unicode.linux-gcc-normal.o -MMD -MP -std=c++11 -W -Wall -mtune=generic -msse -msse2 -mfpmath=sse -fvisibility=hidden -U_FORTIFY_SOURCE -O3 -I. -c unilib/unicode.cpp\n",
            "g++ -o .build/unilib-utf8.linux-gcc-normal.o -MMD -MP -std=c++11 -W -Wall -mtune=generic -msse -msse2 -mfpmath=sse -fvisibility=hidden -U_FORTIFY_SOURCE -O3 -I. -c unilib/utf8.cpp\n",
            "g++ -o .build/unilib-version.linux-gcc-normal.o -MMD -MP -std=c++11 -W -Wall -mtune=generic -msse -msse2 -mfpmath=sse -fvisibility=hidden -U_FORTIFY_SOURCE -O3 -I. -c unilib/version.cpp\n",
            "g++ -o .build/utils-compressor_load.linux-gcc-normal.o -MMD -MP -std=c++11 -W -Wall -mtune=generic -msse -msse2 -mfpmath=sse -fvisibility=hidden -U_FORTIFY_SOURCE -O3 -I. -c utils/compressor_load.cpp\n",
            "g++ -o .build/model-evaluator.linux-gcc-normal.o -MMD -MP -std=c++11 -W -Wall -mtune=generic -msse -msse2 -mfpmath=sse -fvisibility=hidden -U_FORTIFY_SOURCE -O3 -I. -c model/evaluator.cpp\n",
            "g++ -o .build/model-model.linux-gcc-normal.o -MMD -MP -std=c++11 -W -Wall -mtune=generic -msse -msse2 -mfpmath=sse -fvisibility=hidden -U_FORTIFY_SOURCE -O3 -I. -c model/model.cpp\n",
            "g++ -o .build/model-model_morphodita_parsito.linux-gcc-normal.o -MMD -MP -std=c++11 -W -Wall -mtune=generic -msse -msse2 -mfpmath=sse -fvisibility=hidden -U_FORTIFY_SOURCE -O3 -I. -c model/model_morphodita_parsito.cpp\n",
            "g++ -o .build/model-pipeline.linux-gcc-normal.o -MMD -MP -std=c++11 -W -Wall -mtune=generic -msse -msse2 -mfpmath=sse -fvisibility=hidden -U_FORTIFY_SOURCE -O3 -I. -c model/pipeline.cpp\n",
            "g++ -o .build/morphodita-morpho-generic_morpho_encoder.linux-gcc-normal.o -MMD -MP -std=c++11 -W -Wall -mtune=generic -msse -msse2 -mfpmath=sse -fvisibility=hidden -U_FORTIFY_SOURCE -O3 -I. -c morphodita/morpho/generic_morpho_encoder.cpp\n",
            "g++ -o .build/morphodita-morpho-morpho_statistical_guesser_encoder.linux-gcc-normal.o -MMD -MP -std=c++11 -W -Wall -mtune=generic -msse -msse2 -mfpmath=sse -fvisibility=hidden -U_FORTIFY_SOURCE -O3 -I. -c morphodita/morpho/morpho_statistical_guesser_encoder.cpp\n",
            "g++ -o .build/morphodita-morpho-morpho_statistical_guesser_trainer.linux-gcc-normal.o -MMD -MP -std=c++11 -W -Wall -mtune=generic -msse -msse2 -mfpmath=sse -fvisibility=hidden -U_FORTIFY_SOURCE -O3 -I. -c morphodita/morpho/morpho_statistical_guesser_trainer.cpp\n",
            "g++ -o .build/morphodita-morpho-raw_morpho_dictionary_reader.linux-gcc-normal.o -MMD -MP -std=c++11 -W -Wall -mtune=generic -msse -msse2 -mfpmath=sse -fvisibility=hidden -U_FORTIFY_SOURCE -O3 -I. -c morphodita/morpho/raw_morpho_dictionary_reader.cpp\n",
            "g++ -o .build/morphodita-tokenizer-czech_tokenizer_factory.linux-gcc-normal.o -MMD -MP -std=c++11 -W -Wall -mtune=generic -msse -msse2 -mfpmath=sse -fvisibility=hidden -U_FORTIFY_SOURCE -O3 -I. -c morphodita/tokenizer/czech_tokenizer_factory.cpp\n",
            "g++ -o .build/morphodita-tokenizer-czech_tokenizer_factory_encoder.linux-gcc-normal.o -MMD -MP -std=c++11 -W -Wall -mtune=generic -msse -msse2 -mfpmath=sse -fvisibility=hidden -U_FORTIFY_SOURCE -O3 -I. -c morphodita/tokenizer/czech_tokenizer_factory_encoder.cpp\n",
            "g++ -o .build/morphodita-tokenizer-generic_tokenizer_factory.linux-gcc-normal.o -MMD -MP -std=c++11 -W -Wall -mtune=generic -msse -msse2 -mfpmath=sse -fvisibility=hidden -U_FORTIFY_SOURCE -O3 -I. -c morphodita/tokenizer/generic_tokenizer_factory.cpp\n",
            "g++ -o .build/morphodita-tokenizer-generic_tokenizer_factory_encoder.linux-gcc-normal.o -MMD -MP -std=c++11 -W -Wall -mtune=generic -msse -msse2 -mfpmath=sse -fvisibility=hidden -U_FORTIFY_SOURCE -O3 -I. -c morphodita/tokenizer/generic_tokenizer_factory_encoder.cpp\n",
            "g++ -o .build/morphodita-tokenizer-gru_tokenizer.linux-gcc-normal.o -MMD -MP -std=c++11 -W -Wall -mtune=generic -msse -msse2 -mfpmath=sse -fvisibility=hidden -U_FORTIFY_SOURCE -O3 -I. -c morphodita/tokenizer/gru_tokenizer.cpp\n",
            "g++ -o .build/morphodita-tokenizer-gru_tokenizer_factory.linux-gcc-normal.o -MMD -MP -std=c++11 -W -Wall -mtune=generic -msse -msse2 -mfpmath=sse -fvisibility=hidden -U_FORTIFY_SOURCE -O3 -I. -c morphodita/tokenizer/gru_tokenizer_factory.cpp\n",
            "g++ -o .build/morphodita-tokenizer-gru_tokenizer_network.linux-gcc-normal.o -MMD -MP -std=c++11 -W -Wall -mtune=generic -msse -msse2 -mfpmath=sse -fvisibility=hidden -U_FORTIFY_SOURCE -O3 -I. -c morphodita/tokenizer/gru_tokenizer_network.cpp\n",
            "g++ -o .build/morphodita-tokenizer-gru_tokenizer_trainer.linux-gcc-normal.o -MMD -MP -std=c++11 -W -Wall -mtune=generic -msse -msse2 -mfpmath=sse -fvisibility=hidden -U_FORTIFY_SOURCE -O3 -I. -c morphodita/tokenizer/gru_tokenizer_trainer.cpp\n",
            "g++ -o .build/morphodita-tokenizer-tokenizer_factory.linux-gcc-normal.o -MMD -MP -std=c++11 -W -Wall -mtune=generic -msse -msse2 -mfpmath=sse -fvisibility=hidden -U_FORTIFY_SOURCE -O3 -I. -c morphodita/tokenizer/tokenizer_factory.cpp\n",
            "g++ -o .build/parsito-embedding-embedding_encode.linux-gcc-normal.o -MMD -MP -std=c++11 -W -Wall -mtune=generic -msse -msse2 -mfpmath=sse -fvisibility=hidden -U_FORTIFY_SOURCE -O3 -I. -c parsito/embedding/embedding_encode.cpp\n",
            "g++ -o .build/parsito-network-neural_network_trainer.linux-gcc-normal.o -MMD -MP -std=c++11 -W -Wall -mtune=generic -msse -msse2 -mfpmath=sse -fvisibility=hidden -U_FORTIFY_SOURCE -O3 -I. -c parsito/network/neural_network_trainer.cpp\n",
            "g++ -o .build/parsito-parser-parser_nn_trainer.linux-gcc-normal.o -MMD -MP -std=c++11 -W -Wall -mtune=generic -msse -msse2 -mfpmath=sse -fvisibility=hidden -U_FORTIFY_SOURCE -O3 -I. -c parsito/parser/parser_nn_trainer.cpp\n",
            "g++ -o .build/sentence-input_format.linux-gcc-normal.o -MMD -MP -std=c++11 -W -Wall -mtune=generic -msse -msse2 -mfpmath=sse -fvisibility=hidden -U_FORTIFY_SOURCE -O3 -I. -c sentence/input_format.cpp\n",
            "g++ -o .build/sentence-output_format.linux-gcc-normal.o -MMD -MP -std=c++11 -W -Wall -mtune=generic -msse -msse2 -mfpmath=sse -fvisibility=hidden -U_FORTIFY_SOURCE -O3 -I. -c sentence/output_format.cpp\n",
            "g++ -o .build/sentence-sentence.linux-gcc-normal.o -MMD -MP -std=c++11 -W -Wall -mtune=generic -msse -msse2 -mfpmath=sse -fvisibility=hidden -U_FORTIFY_SOURCE -O3 -I. -c sentence/sentence.cpp\n",
            "g++ -o .build/sentence-token.linux-gcc-normal.o -MMD -MP -std=c++11 -W -Wall -mtune=generic -msse -msse2 -mfpmath=sse -fvisibility=hidden -U_FORTIFY_SOURCE -O3 -I. -c sentence/token.cpp\n",
            "g++ -o .build/tokenizer-detokenizer.linux-gcc-normal.o -MMD -MP -std=c++11 -W -Wall -mtune=generic -msse -msse2 -mfpmath=sse -fvisibility=hidden -U_FORTIFY_SOURCE -O3 -I. -c tokenizer/detokenizer.cpp\n",
            "g++ -o .build/tokenizer-morphodita_tokenizer_wrapper.linux-gcc-normal.o -MMD -MP -std=c++11 -W -Wall -mtune=generic -msse -msse2 -mfpmath=sse -fvisibility=hidden -U_FORTIFY_SOURCE -O3 -I. -c tokenizer/morphodita_tokenizer_wrapper.cpp\n",
            "g++ -o .build/tokenizer-multiword_splitter.linux-gcc-normal.o -MMD -MP -std=c++11 -W -Wall -mtune=generic -msse -msse2 -mfpmath=sse -fvisibility=hidden -U_FORTIFY_SOURCE -O3 -I. -c tokenizer/multiword_splitter.cpp\n",
            "g++ -o .build/tokenizer-multiword_splitter_trainer.linux-gcc-normal.o -MMD -MP -std=c++11 -W -Wall -mtune=generic -msse -msse2 -mfpmath=sse -fvisibility=hidden -U_FORTIFY_SOURCE -O3 -I. -c tokenizer/multiword_splitter_trainer.cpp\n",
            "g++ -o .build/trainer-trainer.linux-gcc-normal.o -MMD -MP -std=c++11 -W -Wall -mtune=generic -msse -msse2 -mfpmath=sse -fvisibility=hidden -U_FORTIFY_SOURCE -O3 -I. -c trainer/trainer.cpp\n",
            "g++ -o .build/trainer-trainer_morphodita_parsito.linux-gcc-normal.o -MMD -MP -std=c++11 -W -Wall -mtune=generic -msse -msse2 -mfpmath=sse -fvisibility=hidden -U_FORTIFY_SOURCE -O3 -I. -c trainer/trainer_morphodita_parsito.cpp\n",
            "g++ -o .build/trainer-training_failure.linux-gcc-normal.o -MMD -MP -std=c++11 -W -Wall -mtune=generic -msse -msse2 -mfpmath=sse -fvisibility=hidden -U_FORTIFY_SOURCE -O3 -I. -c trainer/training_failure.cpp\n",
            "g++ -o .build/unilib-uninorms.linux-gcc-normal.o -MMD -MP -std=c++11 -W -Wall -mtune=generic -msse -msse2 -mfpmath=sse -fvisibility=hidden -U_FORTIFY_SOURCE -O3 -I. -c unilib/uninorms.cpp\n",
            "g++ -o .build/utils-compressor_save.linux-gcc-normal.o -MMD -MP -std=c++11 -W -Wall -mtune=generic -msse -msse2 -mfpmath=sse -fvisibility=hidden -U_FORTIFY_SOURCE -O3 -I. -c utils/compressor_save.cpp\n",
            "g++ -o .build/version-version.linux-gcc-normal.o -MMD -MP -std=c++11 -W -Wall -mtune=generic -msse -msse2 -mfpmath=sse -fvisibility=hidden -U_FORTIFY_SOURCE -O3 -I. -c version/version.cpp\n",
            "g++ -o udpipe -std=c++11 -W -Wall -mtune=generic -msse -msse2 -mfpmath=sse -fvisibility=hidden -U_FORTIFY_SOURCE -O3 -I. .build/udpipe.linux-gcc-normal.o .build/utils-options.linux-gcc-normal.o .build/morphodita-derivator-derivation_formatter.linux-gcc-normal.o .build/morphodita-derivator-derivator_dictionary.linux-gcc-normal.o .build/morphodita-morpho-czech_morpho.linux-gcc-normal.o .build/morphodita-morpho-english_morpho.linux-gcc-normal.o .build/morphodita-morpho-english_morpho_guesser.linux-gcc-normal.o .build/morphodita-morpho-external_morpho.linux-gcc-normal.o .build/morphodita-morpho-generic_morpho.linux-gcc-normal.o .build/morphodita-morpho-morpho.linux-gcc-normal.o .build/morphodita-morpho-morpho_statistical_guesser.linux-gcc-normal.o .build/morphodita-morpho-tag_filter.linux-gcc-normal.o .build/morphodita-tagger-tagger.linux-gcc-normal.o .build/morphodita-tagset_converter-identity_tagset_converter.linux-gcc-normal.o .build/morphodita-tagset_converter-pdt_to_conll2009_tagset_converter.linux-gcc-normal.o .build/morphodita-tagset_converter-strip_lemma_comment_tagset_converter.linux-gcc-normal.o .build/morphodita-tagset_converter-strip_lemma_id_tagset_converter.linux-gcc-normal.o .build/morphodita-tagset_converter-tagset_converter.linux-gcc-normal.o .build/morphodita-tokenizer-czech_tokenizer.linux-gcc-normal.o .build/morphodita-tokenizer-english_tokenizer.linux-gcc-normal.o .build/morphodita-tokenizer-generic_tokenizer.linux-gcc-normal.o .build/morphodita-tokenizer-ragel_tokenizer.linux-gcc-normal.o .build/morphodita-tokenizer-tokenizer.linux-gcc-normal.o .build/morphodita-tokenizer-unicode_tokenizer.linux-gcc-normal.o .build/morphodita-tokenizer-vertical_tokenizer.linux-gcc-normal.o .build/morphodita-version-version.linux-gcc-normal.o .build/parsito-configuration-configuration.linux-gcc-normal.o .build/parsito-configuration-node_extractor.linux-gcc-normal.o .build/parsito-configuration-value_extractor.linux-gcc-normal.o .build/parsito-embedding-embedding.linux-gcc-normal.o .build/parsito-network-neural_network.linux-gcc-normal.o .build/parsito-parser-parser.linux-gcc-normal.o .build/parsito-parser-parser_nn.linux-gcc-normal.o .build/parsito-transition-transition.linux-gcc-normal.o .build/parsito-transition-transition_system.linux-gcc-normal.o .build/parsito-transition-transition_system_link2.linux-gcc-normal.o .build/parsito-transition-transition_system_projective.linux-gcc-normal.o .build/parsito-transition-transition_system_swap.linux-gcc-normal.o .build/parsito-tree-tree.linux-gcc-normal.o .build/parsito-tree-tree_format.linux-gcc-normal.o .build/parsito-tree-tree_format_conllu.linux-gcc-normal.o .build/parsito-version-version.linux-gcc-normal.o .build/unilib-unicode.linux-gcc-normal.o .build/unilib-utf8.linux-gcc-normal.o .build/unilib-version.linux-gcc-normal.o .build/utils-compressor_load.linux-gcc-normal.o .build/model-evaluator.linux-gcc-normal.o .build/model-model.linux-gcc-normal.o .build/model-model_morphodita_parsito.linux-gcc-normal.o .build/model-pipeline.linux-gcc-normal.o .build/morphodita-morpho-generic_morpho_encoder.linux-gcc-normal.o .build/morphodita-morpho-morpho_statistical_guesser_encoder.linux-gcc-normal.o .build/morphodita-morpho-morpho_statistical_guesser_trainer.linux-gcc-normal.o .build/morphodita-morpho-raw_morpho_dictionary_reader.linux-gcc-normal.o .build/morphodita-tokenizer-czech_tokenizer_factory.linux-gcc-normal.o .build/morphodita-tokenizer-czech_tokenizer_factory_encoder.linux-gcc-normal.o .build/morphodita-tokenizer-generic_tokenizer_factory.linux-gcc-normal.o .build/morphodita-tokenizer-generic_tokenizer_factory_encoder.linux-gcc-normal.o .build/morphodita-tokenizer-gru_tokenizer.linux-gcc-normal.o .build/morphodita-tokenizer-gru_tokenizer_factory.linux-gcc-normal.o .build/morphodita-tokenizer-gru_tokenizer_network.linux-gcc-normal.o .build/morphodita-tokenizer-gru_tokenizer_trainer.linux-gcc-normal.o .build/morphodita-tokenizer-tokenizer_factory.linux-gcc-normal.o .build/parsito-embedding-embedding_encode.linux-gcc-normal.o .build/parsito-network-neural_network_trainer.linux-gcc-normal.o .build/parsito-parser-parser_nn_trainer.linux-gcc-normal.o .build/sentence-input_format.linux-gcc-normal.o .build/sentence-output_format.linux-gcc-normal.o .build/sentence-sentence.linux-gcc-normal.o .build/sentence-token.linux-gcc-normal.o .build/tokenizer-detokenizer.linux-gcc-normal.o .build/tokenizer-morphodita_tokenizer_wrapper.linux-gcc-normal.o .build/tokenizer-multiword_splitter.linux-gcc-normal.o .build/tokenizer-multiword_splitter_trainer.linux-gcc-normal.o .build/trainer-trainer.linux-gcc-normal.o .build/trainer-trainer_morphodita_parsito.linux-gcc-normal.o .build/trainer-training_failure.linux-gcc-normal.o .build/unilib-uninorms.linux-gcc-normal.o .build/utils-compressor_save.linux-gcc-normal.o .build/version-version.linux-gcc-normal.o  \n",
            "--2020-05-20 14:22:43--  https://lindat.mff.cuni.cz/repository/xmlui/bitstream/handle/11234/1-3131/russian-syntagrus-ud-2.5-191206.udpipe?sequence=70\n",
            "Resolving lindat.mff.cuni.cz (lindat.mff.cuni.cz)... 195.113.20.140\n",
            "Connecting to lindat.mff.cuni.cz (lindat.mff.cuni.cz)|195.113.20.140|:443... connected.\n",
            "HTTP request sent, awaiting response... 200 OK\n",
            "Length: 45859472 (44M) [application/octet-stream]\n",
            "Saving to: ‘russian-syntagrus-ud-2.5-191206.udpipe?sequence=70’\n",
            "\n",
            "russian-syntagrus-u 100%[===================>]  43.73M  98.3MB/s    in 0.4s    \n",
            "\n",
            "2020-05-20 14:22:44 (98.3 MB/s) - ‘russian-syntagrus-ud-2.5-191206.udpipe?sequence=70’ saved [45859472/45859472]\n",
            "\n",
            "/content\n",
            "Cloning into 'frame-parsing'...\n",
            "remote: Enumerating objects: 14, done.\u001b[K\n",
            "remote: Counting objects: 100% (14/14), done.\u001b[K\n",
            "remote: Compressing objects: 100% (10/10), done.\u001b[K\n",
            "remote: Total 112 (delta 4), reused 10 (delta 3), pack-reused 98\u001b[K\n",
            "Receiving objects: 100% (112/112), 21.59 MiB | 17.05 MiB/s, done.\n",
            "Resolving deltas: 100% (47/47), done.\n",
            "/content/frame-parsing\n",
            "--2020-05-20 14:22:54--  https://rocld.com/ma4hf\n",
            "Resolving rocld.com (rocld.com)... 91.222.136.211, 2a00:7a60:0:1066::1\n",
            "Connecting to rocld.com (rocld.com)|91.222.136.211|:443... connected.\n",
            "HTTP request sent, awaiting response... 200 OK\n",
            "Length: 487754511 (465M) [application/octet-stream]\n",
            "Saving to: ‘ma4hf’\n",
            "\n",
            "ma4hf               100%[===================>] 465.16M  33.0MB/s    in 14s     \n",
            "\n",
            "2020-05-20 14:23:10 (32.1 MB/s) - ‘ma4hf’ saved [487754511/487754511]\n",
            "\n",
            "--2020-05-20 14:23:12--  https://rocld.com/ma4hg\n",
            "Resolving rocld.com (rocld.com)... 91.222.136.211, 2a00:7a60:0:1066::1\n",
            "Connecting to rocld.com (rocld.com)|91.222.136.211|:443... connected.\n",
            "HTTP request sent, awaiting response... 200 OK\n",
            "Length: 18898274 (18M) [text/plain]\n",
            "Saving to: ‘ma4hg’\n",
            "\n",
            "ma4hg               100%[===================>]  18.02M  31.8MB/s    in 0.6s    \n",
            "\n",
            "2020-05-20 14:23:14 (31.8 MB/s) - ‘ma4hg’ saved [18898274/18898274]\n",
            "\n",
            "CPU times: user 629 ms, sys: 160 ms, total: 789 ms\n",
            "Wall time: 2min 33s\n"
          ],
          "name": "stdout"
        }
      ]
    },
    {
      "cell_type": "code",
      "metadata": {
        "id": "7bQJTjT8XSNP",
        "colab_type": "code",
        "outputId": "e3bded48-9a28-4615-e18f-8fcc6114e09e",
        "colab": {
          "base_uri": "https://localhost:8080/",
          "height": 306
        }
      },
      "source": [
        "!wget http://download.cdn.yandex.net/mystem/mystem-3.0-linux3.1-64bit.tar.gz\n",
        "!tar -xvf mystem-3.0-linux3.1-64bit.tar.gz\n",
        "!cp mystem /bin"
      ],
      "execution_count": 0,
      "outputs": [
        {
          "output_type": "stream",
          "text": [
            "--2020-05-20 14:23:23--  http://download.cdn.yandex.net/mystem/mystem-3.0-linux3.1-64bit.tar.gz\n",
            "Resolving download.cdn.yandex.net (download.cdn.yandex.net)... 5.45.205.244, 5.45.205.245, 5.45.205.242, ...\n",
            "Connecting to download.cdn.yandex.net (download.cdn.yandex.net)|5.45.205.244|:80... connected.\n",
            "HTTP request sent, awaiting response... 302 Found\n",
            "Location: http://cache-mskm905.cdn.yandex.net/download.cdn.yandex.net/mystem/mystem-3.0-linux3.1-64bit.tar.gz [following]\n",
            "--2020-05-20 14:23:23--  http://cache-mskm905.cdn.yandex.net/download.cdn.yandex.net/mystem/mystem-3.0-linux3.1-64bit.tar.gz\n",
            "Resolving cache-mskm905.cdn.yandex.net (cache-mskm905.cdn.yandex.net)... 5.45.220.15, 2a02:6b8:0:2002::16\n",
            "Connecting to cache-mskm905.cdn.yandex.net (cache-mskm905.cdn.yandex.net)|5.45.220.15|:80... connected.\n",
            "HTTP request sent, awaiting response... 200 OK\n",
            "Length: 16457938 (16M) [application/octet-stream]\n",
            "Saving to: ‘mystem-3.0-linux3.1-64bit.tar.gz’\n",
            "\n",
            "\r          mystem-3.   0%[                    ]       0  --.-KB/s               \r         mystem-3.0   1%[                    ] 297.22K  1.45MB/s               \r        mystem-3.0-  41%[=======>            ]   6.54M  16.3MB/s               \rmystem-3.0-linux3.1 100%[===================>]  15.70M  27.6MB/s    in 0.6s    \n",
            "\n",
            "2020-05-20 14:23:24 (27.6 MB/s) - ‘mystem-3.0-linux3.1-64bit.tar.gz’ saved [16457938/16457938]\n",
            "\n",
            "mystem\n"
          ],
          "name": "stdout"
        }
      ]
    },
    {
      "cell_type": "code",
      "metadata": {
        "id": "ooz_63oKc4Wt",
        "colab_type": "code",
        "outputId": "0fef736d-850d-4988-a5e6-ebc47d632a94",
        "colab": {
          "base_uri": "https://localhost:8080/",
          "height": 272
        }
      },
      "source": [
        "! head -15 create_features.py"
      ],
      "execution_count": 0,
      "outputs": [
        {
          "output_type": "stream",
          "text": [
            "import csv\n",
            "import os\n",
            "import json\n",
            "from collections import OrderedDict\n",
            "import subprocess as sp\n",
            "from conllu import parse, parse_tree\n",
            "\n",
            "# UDPIPE = \"/home/lizaku/Programs/udpipe/src/udpipe\"\n",
            "# PATH = \"/home/lizaku/Programs/udpipe/UD_Russian/ru.udpipe\"\n",
            "\n",
            "UDPIPE = 'udpipe'\n",
            "PATH = \"ru.udpipe\"\n",
            "\n",
            "def map_roles(role):\n",
            "    if role:\n"
          ],
          "name": "stdout"
        }
      ]
    },
    {
      "cell_type": "code",
      "metadata": {
        "id": "9Y8vS7Ohc0ii",
        "colab_type": "code",
        "colab": {}
      },
      "source": [
        "with open(\"create_features.py\", \"r\", encoding=\"utf-8\") as incode:\n",
        "  codelines = incode.read().split(\"\\n\")\n",
        "\n",
        "codelines[10] = 'UDPIPE = \"/content/udpipe/src/udpipe\"'\n",
        "codelines[11] = 'PATH = \"/content/udpipe/src/ru.udpipe\"'\n",
        "\n",
        "with open(\"create_features.py\", \"w\", encoding=\"utf-8\") as outcode:\n",
        "  outcode.write(\"\\n\".join(codelines))"
      ],
      "execution_count": 0,
      "outputs": []
    },
    {
      "cell_type": "code",
      "metadata": {
        "id": "1zv2KKGIkEYo",
        "colab_type": "code",
        "outputId": "b217432b-43a7-4876-ad7a-7b445f0ab431",
        "colab": {
          "base_uri": "https://localhost:8080/",
          "height": 272
        }
      },
      "source": [
        "!head -15 create_features.py"
      ],
      "execution_count": 0,
      "outputs": [
        {
          "output_type": "stream",
          "text": [
            "import csv\n",
            "import os\n",
            "import json\n",
            "from collections import OrderedDict\n",
            "import subprocess as sp\n",
            "from conllu import parse, parse_tree\n",
            "\n",
            "# UDPIPE = \"/home/lizaku/Programs/udpipe/src/udpipe\"\n",
            "# PATH = \"/home/lizaku/Programs/udpipe/UD_Russian/ru.udpipe\"\n",
            "\n",
            "UDPIPE = \"/content/udpipe/src/udpipe\"\n",
            "PATH = \"/content/udpipe/src/ru.udpipe\"\n",
            "\n",
            "def map_roles(role):\n",
            "    if role:\n"
          ],
          "name": "stdout"
        }
      ]
    },
    {
      "cell_type": "code",
      "metadata": {
        "id": "GfvQuA7yXC2-",
        "colab_type": "code",
        "outputId": "11a5a929-f315-45d3-f35d-c69104e6fd9b",
        "colab": {
          "base_uri": "https://localhost:8080/",
          "height": 105
        }
      },
      "source": [
        "from create_features import features\n",
        "from sklearn.externals import joblib\n",
        "from pymystem3 import Mystem\n",
        "from collections import OrderedDict\n",
        "from string import whitespace, punctuation\n",
        "\n",
        "clf = joblib.load('frame_parser.pkl')\n",
        "vec = joblib.load('feature_transformer.pkl')\n",
        "\n",
        "def frames(sentence):\n",
        "    header = ('word', 'lex', 'pos', 'gram', 'prev_gr', 'prev_lex', 'rel', 'pred_lemma')\n",
        "    anas = m.analyze(sentence)\n",
        "    fr = OrderedDict()\n",
        "    data = OrderedDict()\n",
        "    for w in anas:\n",
        "        word = w['text']\n",
        "        #if word in whitespace or word in punctuation:\n",
        "        #    continue\n",
        "        try:\n",
        "            gr = w['analysis'][0]['gr']\n",
        "            lex = w['analysis'][0]['lex']\n",
        "        except:\n",
        "            gr, lex = None, None\n",
        "        data[word] = [lex, gr, None, None, None, None]\n",
        "    vector = features(data)\n",
        "    vectors = OrderedDict((k, v) for k,v in vector.items() if k not in whitespace and k not in punctuation)\n",
        "    for w in vectors:\n",
        "        feats = [w] + [str(x) for x in vectors[w]][:-1]\n",
        "        feats = dict(zip(header, feats))\n",
        "        v = vec.transform(feats)\n",
        "        role = clf.predict(v)[0]\n",
        "        fr[w] = role\n",
        "    #print(fr)\n",
        "    return fr\n",
        "    #vector = vec.transform(features)\n",
        "    #return clf.predict(vector)[0][0]"
      ],
      "execution_count": 0,
      "outputs": [
        {
          "output_type": "stream",
          "text": [
            "/usr/local/lib/python3.6/dist-packages/sklearn/base.py:318: UserWarning: Trying to unpickle estimator SGDClassifier from version 0.18.1 when using version 0.22.2.post1. This might lead to breaking code or invalid results. Use at your own risk.\n",
            "  UserWarning)\n",
            "/usr/local/lib/python3.6/dist-packages/sklearn/base.py:318: UserWarning: Trying to unpickle estimator DictVectorizer from version 0.18.1 when using version 0.22.2.post1. This might lead to breaking code or invalid results. Use at your own risk.\n",
            "  UserWarning)\n"
          ],
          "name": "stderr"
        }
      ]
    },
    {
      "cell_type": "code",
      "metadata": {
        "id": "F1whEH9rhXSK",
        "colab_type": "code",
        "colab": {}
      },
      "source": [
        "from create_features import arg_pred\n",
        "\n",
        "arg_pred('parsed_framebank_roles_big.json', 'roles_syntax.csv')"
      ],
      "execution_count": 0,
      "outputs": []
    },
    {
      "cell_type": "code",
      "metadata": {
        "id": "gZXGLUVNXMF2",
        "colab_type": "code",
        "colab": {}
      },
      "source": [
        "m = Mystem('/bin/mystem')"
      ],
      "execution_count": 0,
      "outputs": []
    },
    {
      "cell_type": "code",
      "metadata": {
        "id": "MTsNRX4it3xO",
        "colab_type": "code",
        "outputId": "10009504-1f2d-4454-dea2-ac78f89d0bc5",
        "colab": {
          "base_uri": "https://localhost:8080/",
          "height": 1000
        }
      },
      "source": [
        "#sentence = 'мама мыла раму'\n",
        "sentence = '''Публичное акционерное общество Мвидео именуемое в дальнейшем Общество является коммерческой организацией созданной в соответствии с Гражданским кодексом Российской Федерации Федеральным законом «Об акционерных обществах» № 208-ФЗ (далее – Закон) и иными нормативными правовыми актами Российской Федерации в целях извлечения прибыли и обладает полной хозяйственной самостоятельностью общество является юридическим лицом и действует на основании настоящего устава и законодательства российской федерации'''\n",
        "frames(sentence)"
      ],
      "execution_count": 0,
      "outputs": [
        {
          "output_type": "stream",
          "text": [
            "OrderedDict([('id', 49), ('form', 'действует'), ('lemma', 'действовать'), ('upostag', 'VERB'), ('xpostag', None), ('feats', OrderedDict([('Aspect', 'Imp'), ('Mood', 'Ind'), ('Number', 'Sing'), ('Person', '3'), ('Tense', 'Pres'), ('VerbForm', 'Fin'), ('Voice', 'Act')])), ('head', 0), ('deprel', 'root'), ('deps', None), ('misc', None)])\n",
            "OrderedDict([('id', 3), ('form', 'общество'), ('lemma', 'общество'), ('upostag', 'NOUN'), ('xpostag', None), ('feats', OrderedDict([('Animacy', 'Inan'), ('Case', 'Nom'), ('Gender', 'Neut'), ('Number', 'Sing')])), ('head', 49), ('deprel', 'nsubj'), ('deps', None), ('misc', None)])\n",
            "OrderedDict([('id', 1), ('form', 'Публичное'), ('lemma', 'публичный'), ('upostag', 'ADJ'), ('xpostag', None), ('feats', OrderedDict([('Case', 'Nom'), ('Degree', 'Pos'), ('Gender', 'Neut'), ('Number', 'Sing')])), ('head', 3), ('deprel', 'amod'), ('deps', None), ('misc', OrderedDict([('SpacesAfter', '\\\\s\\\\s\\\\s')]))])\n",
            "OrderedDict([('id', 2), ('form', 'акционерное'), ('lemma', 'акционерный'), ('upostag', 'ADJ'), ('xpostag', None), ('feats', OrderedDict([('Case', 'Nom'), ('Degree', 'Pos'), ('Gender', 'Neut'), ('Number', 'Sing')])), ('head', 3), ('deprel', 'amod'), ('deps', None), ('misc', None)])\n",
            "OrderedDict([('id', 4), ('form', 'Мвидео'), ('lemma', 'Мвидео'), ('upostag', 'PROPN'), ('xpostag', None), ('feats', OrderedDict([('Animacy', 'Anim'), ('Case', 'Gen'), ('Gender', 'Masc'), ('Number', 'Sing')])), ('head', 3), ('deprel', 'nmod'), ('deps', None), ('misc', None)])\n",
            "OrderedDict([('id', 9), ('form', 'является'), ('lemma', 'являться'), ('upostag', 'VERB'), ('xpostag', None), ('feats', OrderedDict([('Aspect', 'Imp'), ('Mood', 'Ind'), ('Number', 'Sing'), ('Person', '3'), ('Tense', 'Pres'), ('VerbForm', 'Fin'), ('Voice', 'Mid')])), ('head', 49), ('deprel', 'advcl'), ('deps', None), ('misc', None)])\n",
            "OrderedDict([('id', 8), ('form', 'Общество'), ('lemma', 'общество'), ('upostag', 'PROPN'), ('xpostag', None), ('feats', OrderedDict([('Animacy', 'Inan'), ('Case', 'Nom'), ('Gender', 'Neut'), ('Number', 'Sing')])), ('head', 9), ('deprel', 'nsubj'), ('deps', None), ('misc', None)])\n",
            "OrderedDict([('id', 5), ('form', 'именуемое'), ('lemma', 'именовать'), ('upostag', 'VERB'), ('xpostag', None), ('feats', OrderedDict([('Aspect', 'Imp'), ('Case', 'Nom'), ('Gender', 'Neut'), ('Number', 'Sing'), ('Tense', 'Pres'), ('VerbForm', 'Part'), ('Voice', 'Pass')])), ('head', 8), ('deprel', 'acl'), ('deps', None), ('misc', None)])\n",
            "OrderedDict([('id', 7), ('form', 'дальнейшем'), ('lemma', 'дальнейший'), ('upostag', 'ADJ'), ('xpostag', None), ('feats', OrderedDict([('Case', 'Loc'), ('Degree', 'Pos'), ('Gender', 'Neut'), ('Number', 'Sing')])), ('head', 5), ('deprel', 'obl'), ('deps', None), ('misc', None)])\n",
            "OrderedDict([('id', 6), ('form', 'в'), ('lemma', 'в'), ('upostag', 'ADP'), ('xpostag', None), ('feats', None), ('head', 7), ('deprel', 'case'), ('deps', None), ('misc', None)])\n",
            "OrderedDict([('id', 43), ('form', 'обладает'), ('lemma', 'обладать'), ('upostag', 'VERB'), ('xpostag', None), ('feats', OrderedDict([('Aspect', 'Imp'), ('Mood', 'Ind'), ('Number', 'Sing'), ('Person', '3'), ('Tense', 'Pres'), ('VerbForm', 'Fin'), ('Voice', 'Act')])), ('head', 49), ('deprel', 'advcl'), ('deps', None), ('misc', None)])\n",
            "OrderedDict([('id', 11), ('form', 'организацией'), ('lemma', 'организация'), ('upostag', 'NOUN'), ('xpostag', None), ('feats', OrderedDict([('Animacy', 'Inan'), ('Case', 'Ins'), ('Gender', 'Fem'), ('Number', 'Sing')])), ('head', 43), ('deprel', 'obl'), ('deps', None), ('misc', None)])\n",
            "OrderedDict([('id', 10), ('form', 'коммерческой'), ('lemma', 'коммерческий'), ('upostag', 'ADJ'), ('xpostag', None), ('feats', OrderedDict([('Case', 'Ins'), ('Degree', 'Pos'), ('Gender', 'Fem'), ('Number', 'Sing')])), ('head', 11), ('deprel', 'amod'), ('deps', None), ('misc', None)])\n",
            "OrderedDict([('id', 13), ('form', 'соответствии'), ('lemma', 'соответствие'), ('upostag', 'NOUN'), ('xpostag', None), ('feats', OrderedDict([('Animacy', 'Inan'), ('Case', 'Gen'), ('Gender', 'Fem'), ('Number', 'Sing')])), ('head', 11), ('deprel', 'nmod'), ('deps', None), ('misc', None)])\n",
            "OrderedDict([('id', 12), ('form', 'созданной'), ('lemma', 'создать'), ('upostag', 'VERB'), ('xpostag', None), ('feats', OrderedDict([('Aspect', 'Perf'), ('Case', 'Gen'), ('Gender', 'Fem'), ('Number', 'Sing'), ('Tense', 'Past'), ('VerbForm', 'Part'), ('Voice', 'Pass')])), ('head', 13), ('deprel', 'amod'), ('deps', None), ('misc', None)])\n",
            "OrderedDict([('id', 16), ('form', 'кодексом'), ('lemma', 'кодекс'), ('upostag', 'NOUN'), ('xpostag', None), ('feats', OrderedDict([('Animacy', 'Inan'), ('Case', 'Ins'), ('Gender', 'Masc'), ('Number', 'Sing')])), ('head', 13), ('deprel', 'nmod'), ('deps', None), ('misc', None)])\n",
            "OrderedDict([('id', 14), ('form', 'с'), ('lemma', 'с'), ('upostag', 'ADP'), ('xpostag', None), ('feats', None), ('head', 16), ('deprel', 'case'), ('deps', None), ('misc', None)])\n",
            "OrderedDict([('id', 15), ('form', 'Гражданским'), ('lemma', 'гражданский'), ('upostag', 'ADJ'), ('xpostag', None), ('feats', OrderedDict([('Case', 'Ins'), ('Degree', 'Pos'), ('Gender', 'Masc'), ('Number', 'Sing')])), ('head', 16), ('deprel', 'amod'), ('deps', None), ('misc', None)])\n",
            "OrderedDict([('id', 18), ('form', 'Федерации'), ('lemma', 'Федерация'), ('upostag', 'PROPN'), ('xpostag', None), ('feats', OrderedDict([('Animacy', 'Inan'), ('Case', 'Gen'), ('Gender', 'Fem'), ('Number', 'Sing')])), ('head', 16), ('deprel', 'nmod'), ('deps', None), ('misc', None)])\n",
            "OrderedDict([('id', 17), ('form', 'Российской'), ('lemma', 'российский'), ('upostag', 'ADJ'), ('xpostag', None), ('feats', OrderedDict([('Case', 'Gen'), ('Degree', 'Pos'), ('Gender', 'Fem'), ('Number', 'Sing')])), ('head', 18), ('deprel', 'amod'), ('deps', None), ('misc', None)])\n",
            "OrderedDict([('id', 20), ('form', 'законом'), ('lemma', 'закон'), ('upostag', 'NOUN'), ('xpostag', None), ('feats', OrderedDict([('Animacy', 'Inan'), ('Case', 'Ins'), ('Gender', 'Masc'), ('Number', 'Sing')])), ('head', 16), ('deprel', 'nmod'), ('deps', None), ('misc', OrderedDict([('SpacesAfter', '\\\\s\\\\s')]))])\n",
            "OrderedDict([('id', 19), ('form', 'Федеральным'), ('lemma', 'федеральный'), ('upostag', 'ADJ'), ('xpostag', None), ('feats', OrderedDict([('Case', 'Ins'), ('Degree', 'Pos'), ('Gender', 'Masc'), ('Number', 'Sing')])), ('head', 20), ('deprel', 'amod'), ('deps', None), ('misc', None)])\n",
            "OrderedDict([('id', 24), ('form', 'обществах'), ('lemma', 'общество'), ('upostag', 'NOUN'), ('xpostag', None), ('feats', OrderedDict([('Animacy', 'Inan'), ('Case', 'Loc'), ('Gender', 'Neut'), ('Number', 'Plur')])), ('head', 20), ('deprel', 'parataxis'), ('deps', None), ('misc', None)])\n",
            "OrderedDict([('id', 21), ('form', '«'), ('lemma', '«'), ('upostag', 'PUNCT'), ('xpostag', None), ('feats', None), ('head', 24), ('deprel', 'punct'), ('deps', None), ('misc', None)])\n",
            "OrderedDict([('id', 22), ('form', 'Об'), ('lemma', 'о'), ('upostag', 'ADP'), ('xpostag', None), ('feats', None), ('head', 24), ('deprel', 'case'), ('deps', None), ('misc', None)])\n",
            "OrderedDict([('id', 23), ('form', 'акционерных'), ('lemma', 'акционерный'), ('upostag', 'ADJ'), ('xpostag', None), ('feats', OrderedDict([('Case', 'Loc'), ('Degree', 'Pos'), ('Number', 'Plur')])), ('head', 24), ('deprel', 'amod'), ('deps', None), ('misc', None)])\n",
            "OrderedDict([('id', 26), ('form', '№'), ('lemma', '№'), ('upostag', 'SYM'), ('xpostag', None), ('feats', None), ('head', 24), ('deprel', 'parataxis'), ('deps', None), ('misc', OrderedDict([('SpacesAfter', '\\\\s\\\\s')]))])\n",
            "OrderedDict([('id', 25), ('form', '»'), ('lemma', '»'), ('upostag', 'PUNCT'), ('xpostag', None), ('feats', None), ('head', 26), ('deprel', 'punct'), ('deps', None), ('misc', None)])\n",
            "OrderedDict([('id', 27), ('form', '208'), ('lemma', '208'), ('upostag', 'NUM'), ('xpostag', None), ('feats', None), ('head', 26), ('deprel', 'nummod'), ('deps', None), ('misc', None)])\n",
            "OrderedDict([('id', 29), ('form', 'ФЗ'), ('lemma', 'ФЗ'), ('upostag', 'PROPN'), ('xpostag', None), ('feats', OrderedDict([('Animacy', 'Inan'), ('Case', 'Nom'), ('Gender', 'Fem'), ('Number', 'Sing')])), ('head', 26), ('deprel', 'parataxis'), ('deps', None), ('misc', OrderedDict([('SpacesAfter', '\\\\s\\\\s')]))])\n",
            "OrderedDict([('id', 28), ('form', '-'), ('lemma', '-'), ('upostag', 'PUNCT'), ('xpostag', None), ('feats', None), ('head', 29), ('deprel', 'punct'), ('deps', None), ('misc', None)])\n",
            "OrderedDict([('id', 31), ('form', 'далее'), ('lemma', 'далее'), ('upostag', 'ADV'), ('xpostag', None), ('feats', OrderedDict([('Degree', 'Pos')])), ('head', 29), ('deprel', 'parataxis'), ('deps', None), ('misc', OrderedDict([('SpacesAfter', '\\\\s\\\\s')]))])\n",
            "OrderedDict([('id', 30), ('form', '('), ('lemma', '('), ('upostag', 'PUNCT'), ('xpostag', None), ('feats', None), ('head', 31), ('deprel', 'punct'), ('deps', None), ('misc', None)])\n",
            "OrderedDict([('id', 32), ('form', '–'), ('lemma', '–'), ('upostag', 'PUNCT'), ('xpostag', None), ('feats', None), ('head', 31), ('deprel', 'punct'), ('deps', None), ('misc', OrderedDict([('SpacesAfter', '\\\\s\\\\s')]))])\n",
            "OrderedDict([('id', 33), ('form', 'Закон'), ('lemma', 'закон'), ('upostag', 'PROPN'), ('xpostag', None), ('feats', OrderedDict([('Animacy', 'Inan'), ('Case', 'Nom'), ('Gender', 'Masc'), ('Number', 'Sing')])), ('head', 31), ('deprel', 'nsubj'), ('deps', None), ('misc', None)])\n",
            "OrderedDict([('id', 34), ('form', ')'), ('lemma', ')'), ('upostag', 'PUNCT'), ('xpostag', None), ('feats', None), ('head', 31), ('deprel', 'punct'), ('deps', None), ('misc', OrderedDict([('SpacesAfter', '\\\\s\\\\s')]))])\n",
            "OrderedDict([('id', 39), ('form', 'актами'), ('lemma', 'акт'), ('upostag', 'NOUN'), ('xpostag', None), ('feats', OrderedDict([('Animacy', 'Inan'), ('Case', 'Ins'), ('Gender', 'Masc'), ('Number', 'Plur')])), ('head', 29), ('deprel', 'conj'), ('deps', None), ('misc', None)])\n",
            "OrderedDict([('id', 35), ('form', 'и'), ('lemma', 'и'), ('upostag', 'CCONJ'), ('xpostag', None), ('feats', None), ('head', 39), ('deprel', 'cc'), ('deps', None), ('misc', None)])\n",
            "OrderedDict([('id', 36), ('form', 'иными'), ('lemma', 'иной'), ('upostag', 'ADJ'), ('xpostag', None), ('feats', OrderedDict([('Case', 'Ins'), ('Degree', 'Pos'), ('Number', 'Plur')])), ('head', 39), ('deprel', 'amod'), ('deps', None), ('misc', None)])\n",
            "OrderedDict([('id', 37), ('form', 'нормативными'), ('lemma', 'нормативный'), ('upostag', 'ADJ'), ('xpostag', None), ('feats', OrderedDict([('Case', 'Ins'), ('Degree', 'Pos'), ('Number', 'Plur')])), ('head', 39), ('deprel', 'amod'), ('deps', None), ('misc', None)])\n",
            "OrderedDict([('id', 38), ('form', 'правовыми'), ('lemma', 'правовой'), ('upostag', 'ADJ'), ('xpostag', None), ('feats', OrderedDict([('Case', 'Ins'), ('Degree', 'Pos'), ('Number', 'Plur')])), ('head', 39), ('deprel', 'amod'), ('deps', None), ('misc', None)])\n",
            "OrderedDict([('id', 40), ('form', 'целях'), ('lemma', 'цель'), ('upostag', 'NOUN'), ('xpostag', None), ('feats', OrderedDict([('Animacy', 'Inan'), ('Case', 'Loc'), ('Gender', 'Fem'), ('Number', 'Plur')])), ('head', 39), ('deprel', 'nmod'), ('deps', None), ('misc', None)])\n",
            "OrderedDict([('id', 41), ('form', 'извлечения'), ('lemma', 'извлечение'), ('upostag', 'NOUN'), ('xpostag', None), ('feats', OrderedDict([('Animacy', 'Inan'), ('Case', 'Gen'), ('Gender', 'Neut'), ('Number', 'Sing')])), ('head', 40), ('deprel', 'nmod'), ('deps', None), ('misc', None)])\n",
            "OrderedDict([('id', 42), ('form', 'прибыли'), ('lemma', 'прибыль'), ('upostag', 'NOUN'), ('xpostag', None), ('feats', OrderedDict([('Animacy', 'Inan'), ('Case', 'Gen'), ('Gender', 'Fem'), ('Number', 'Sing')])), ('head', 41), ('deprel', 'nmod'), ('deps', None), ('misc', None)])\n",
            "OrderedDict([('id', 46), ('form', 'самостоятельностью'), ('lemma', 'самостоятельность'), ('upostag', 'NOUN'), ('xpostag', None), ('feats', OrderedDict([('Animacy', 'Inan'), ('Case', 'Ins'), ('Gender', 'Fem'), ('Number', 'Sing')])), ('head', 49), ('deprel', 'obl'), ('deps', None), ('misc', None)])\n",
            "OrderedDict([('id', 44), ('form', 'полной'), ('lemma', 'полный'), ('upostag', 'ADJ'), ('xpostag', None), ('feats', OrderedDict([('Case', 'Ins'), ('Degree', 'Pos'), ('Gender', 'Fem'), ('Number', 'Sing')])), ('head', 46), ('deprel', 'amod'), ('deps', None), ('misc', None)])\n",
            "OrderedDict([('id', 45), ('form', 'хозяйственной'), ('lemma', 'хозяйственный'), ('upostag', 'ADJ'), ('xpostag', None), ('feats', OrderedDict([('Case', 'Ins'), ('Degree', 'Pos'), ('Gender', 'Fem'), ('Number', 'Sing')])), ('head', 46), ('deprel', 'amod'), ('deps', None), ('misc', None)])\n",
            "OrderedDict([('id', 48), ('form', 'лицом'), ('lemma', 'лицо'), ('upostag', 'NOUN'), ('xpostag', None), ('feats', OrderedDict([('Animacy', 'Inan'), ('Case', 'Ins'), ('Gender', 'Neut'), ('Number', 'Sing')])), ('head', 49), ('deprel', 'obl'), ('deps', None), ('misc', None)])\n",
            "OrderedDict([('id', 47), ('form', 'юридическим'), ('lemma', 'юридический'), ('upostag', 'ADJ'), ('xpostag', None), ('feats', OrderedDict([('Case', 'Ins'), ('Degree', 'Pos'), ('Gender', 'Neut'), ('Number', 'Sing')])), ('head', 48), ('deprel', 'amod'), ('deps', None), ('misc', None)])\n",
            "OrderedDict([('id', 51), ('form', 'основании'), ('lemma', 'основание'), ('upostag', 'NOUN'), ('xpostag', None), ('feats', OrderedDict([('Animacy', 'Inan'), ('Case', 'Loc'), ('Gender', 'Neut'), ('Number', 'Sing')])), ('head', 49), ('deprel', 'obl'), ('deps', None), ('misc', None)])\n",
            "OrderedDict([('id', 50), ('form', 'на'), ('lemma', 'на'), ('upostag', 'ADP'), ('xpostag', None), ('feats', None), ('head', 51), ('deprel', 'case'), ('deps', None), ('misc', None)])\n",
            "OrderedDict([('id', 53), ('form', 'устава'), ('lemma', 'устава'), ('upostag', 'NOUN'), ('xpostag', None), ('feats', OrderedDict([('Animacy', 'Inan'), ('Case', 'Gen'), ('Gender', 'Neut'), ('Number', 'Sing')])), ('head', 51), ('deprel', 'nmod'), ('deps', None), ('misc', None)])\n",
            "OrderedDict([('id', 52), ('form', 'настоящего'), ('lemma', 'настоящий'), ('upostag', 'ADJ'), ('xpostag', None), ('feats', OrderedDict([('Case', 'Gen'), ('Degree', 'Pos'), ('Gender', 'Neut'), ('Number', 'Sing')])), ('head', 53), ('deprel', 'amod'), ('deps', None), ('misc', None)])\n",
            "OrderedDict([('id', 54), ('form', 'законодательства'), ('lemma', 'законодательство'), ('upostag', 'NOUN'), ('xpostag', None), ('feats', OrderedDict([('Animacy', 'Inan'), ('Case', 'Gen'), ('Gender', 'Neut'), ('Number', 'Sing')])), ('head', 53), ('deprel', 'nmod'), ('deps', None), ('misc', None)])\n",
            "OrderedDict([('id', 56), ('form', 'федерации'), ('lemma', 'федерация'), ('upostag', 'NOUN'), ('xpostag', None), ('feats', OrderedDict([('Animacy', 'Inan'), ('Case', 'Gen'), ('Gender', 'Fem'), ('Number', 'Sing')])), ('head', 54), ('deprel', 'nmod'), ('deps', None), ('misc', OrderedDict([('SpacesAfter', '\\\\s\\\\n\\\\n')]))])\n",
            "OrderedDict([('id', 55), ('form', 'российской'), ('lemma', 'российский'), ('upostag', 'ADJ'), ('xpostag', None), ('feats', OrderedDict([('Case', 'Gen'), ('Degree', 'Pos'), ('Gender', 'Fem'), ('Number', 'Sing')])), ('head', 56), ('deprel', 'amod'), ('deps', None), ('misc', None)])\n"
          ],
          "name": "stdout"
        },
        {
          "output_type": "execute_result",
          "data": {
            "text/plain": [
              "OrderedDict([('Публичное', 'пациенс'),\n",
              "             ('акционерное', 'пациенс'),\n",
              "             ('общество', 'конечная точка'),\n",
              "             ('Мвидео', 'экспериенцер'),\n",
              "             ('именуемое', 'конечная точка'),\n",
              "             ('в', 'конечная точка'),\n",
              "             ('дальнейшем', 'пациенс'),\n",
              "             ('Общество', 'экспериенцер'),\n",
              "             ('является', 'экспериенцер'),\n",
              "             ('коммерческой', 'конечная точка'),\n",
              "             ('организацией', 'конечная точка'),\n",
              "             ('созданной', 'конечная точка'),\n",
              "             ('соответствии', 'конечная точка'),\n",
              "             ('с', 'конечная точка'),\n",
              "             ('Гражданским', 'ресурс'),\n",
              "             ('кодексом', 'содержание высказывания'),\n",
              "             ('Российской', 'конечная точка'),\n",
              "             ('Федерации', 'среда'),\n",
              "             ('Федеральным', 'конечная точка'),\n",
              "             ('законом', 'адресат'),\n",
              "             (' «', 'содержание действия'),\n",
              "             ('Об', 'пациенс'),\n",
              "             ('акционерных', 'адресат'),\n",
              "             ('обществах', 'конечная точка'),\n",
              "             ('» № ', 'экспериенцер'),\n",
              "             ('208', 'пациенс'),\n",
              "             ('ФЗ', 'пациенс'),\n",
              "             (' (', 'конечная точка'),\n",
              "             ('далее', 'пациенс'),\n",
              "             (' – ', 'адресат'),\n",
              "             ('Закон', 'пациенс'),\n",
              "             (') ', 'содержание действия'),\n",
              "             ('и', 'пациенс'),\n",
              "             ('иными', 'место'),\n",
              "             ('нормативными', 'агенс'),\n",
              "             ('правовыми', 'инструмент'),\n",
              "             ('актами', 'тема'),\n",
              "             ('целях', 'конечная точка'),\n",
              "             ('извлечения', 'ресурс'),\n",
              "             ('прибыли', 'конечная точка'),\n",
              "             ('обладает', 'конечная точка'),\n",
              "             ('полной', 'конечная точка'),\n",
              "             ('хозяйственной', 'результат'),\n",
              "             ('самостоятельностью', 'экспериенцер'),\n",
              "             ('юридическим', 'конечная точка'),\n",
              "             ('лицом', 'конечная точка'),\n",
              "             ('действует', 'результат'),\n",
              "             ('на', 'конечная точка'),\n",
              "             ('основании', 'содержание действия'),\n",
              "             ('настоящего', 'конечная точка'),\n",
              "             ('устава', 'посессор'),\n",
              "             ('законодательства', 'агенс'),\n",
              "             ('российской', 'экспериенцер'),\n",
              "             ('федерации', 'среда')])"
            ]
          },
          "metadata": {
            "tags": []
          },
          "execution_count": 38
        }
      ]
    },
    {
      "cell_type": "code",
      "metadata": {
        "id": "qjI6dCKTyAkQ",
        "colab_type": "code",
        "outputId": "6f42dc3b-be8a-4c0c-9454-4ad70a9e6cab",
        "colab": {
          "base_uri": "https://localhost:8080/",
          "height": 564
        }
      },
      "source": [
        "text = 'Доставшийся в наследство от советского периода времени промышленный и интеллектуальный потенциал оказался благом и горем страны.'\n",
        "fr = frames(text)\n",
        "for f in fr:\n",
        "    print(f, fr[f])"
      ],
      "execution_count": 0,
      "outputs": [
        {
          "output_type": "stream",
          "text": [
            "OrderedDict([('id', 12), ('form', 'оказался'), ('lemma', 'оказаться'), ('upostag', 'VERB'), ('xpostag', None), ('feats', OrderedDict([('Aspect', 'Perf'), ('Gender', 'Masc'), ('Mood', 'Ind'), ('Number', 'Sing'), ('Tense', 'Past'), ('VerbForm', 'Fin'), ('Voice', 'Mid')])), ('head', 0), ('deprel', 'root'), ('deps', None), ('misc', None)])\n",
            "OrderedDict([('id', 11), ('form', 'потенциал'), ('lemma', 'потенциал'), ('upostag', 'NOUN'), ('xpostag', None), ('feats', OrderedDict([('Animacy', 'Inan'), ('Case', 'Nom'), ('Gender', 'Masc'), ('Number', 'Sing')])), ('head', 12), ('deprel', 'nsubj'), ('deps', None), ('misc', None)])\n",
            "OrderedDict([('id', 1), ('form', 'Доставшийся'), ('lemma', 'Достаться'), ('upostag', 'VERB'), ('xpostag', None), ('feats', OrderedDict([('Aspect', 'Perf'), ('Case', 'Nom'), ('Gender', 'Masc'), ('Number', 'Sing'), ('Tense', 'Past'), ('VerbForm', 'Part'), ('Voice', 'Mid')])), ('head', 11), ('deprel', 'acl'), ('deps', None), ('misc', OrderedDict([('SpacesAfter', '\\\\s\\\\s\\\\s')]))])\n",
            "OrderedDict([('id', 3), ('form', 'наследство'), ('lemma', 'наследство'), ('upostag', 'NOUN'), ('xpostag', None), ('feats', OrderedDict([('Animacy', 'Inan'), ('Case', 'Acc'), ('Gender', 'Neut'), ('Number', 'Sing')])), ('head', 1), ('deprel', 'obl'), ('deps', None), ('misc', None)])\n",
            "OrderedDict([('id', 2), ('form', 'в'), ('lemma', 'в'), ('upostag', 'ADP'), ('xpostag', None), ('feats', None), ('head', 3), ('deprel', 'case'), ('deps', None), ('misc', None)])\n",
            "OrderedDict([('id', 6), ('form', 'периода'), ('lemma', 'период'), ('upostag', 'NOUN'), ('xpostag', None), ('feats', OrderedDict([('Animacy', 'Inan'), ('Case', 'Gen'), ('Gender', 'Masc'), ('Number', 'Sing')])), ('head', 1), ('deprel', 'obl'), ('deps', None), ('misc', None)])\n",
            "OrderedDict([('id', 4), ('form', 'от'), ('lemma', 'от'), ('upostag', 'ADP'), ('xpostag', None), ('feats', None), ('head', 6), ('deprel', 'case'), ('deps', None), ('misc', None)])\n",
            "OrderedDict([('id', 5), ('form', 'советского'), ('lemma', 'советский'), ('upostag', 'ADJ'), ('xpostag', None), ('feats', OrderedDict([('Case', 'Gen'), ('Degree', 'Pos'), ('Gender', 'Masc'), ('Number', 'Sing')])), ('head', 6), ('deprel', 'amod'), ('deps', None), ('misc', None)])\n",
            "OrderedDict([('id', 7), ('form', 'времени'), ('lemma', 'время'), ('upostag', 'NOUN'), ('xpostag', None), ('feats', OrderedDict([('Animacy', 'Inan'), ('Case', 'Gen'), ('Gender', 'Neut'), ('Number', 'Sing')])), ('head', 6), ('deprel', 'nmod'), ('deps', None), ('misc', None)])\n",
            "OrderedDict([('id', 8), ('form', 'промышленный'), ('lemma', 'промышленный'), ('upostag', 'ADJ'), ('xpostag', None), ('feats', OrderedDict([('Case', 'Nom'), ('Degree', 'Pos'), ('Gender', 'Masc'), ('Number', 'Sing')])), ('head', 11), ('deprel', 'amod'), ('deps', None), ('misc', None)])\n",
            "OrderedDict([('id', 10), ('form', 'интеллектуальный'), ('lemma', 'интеллектуальный'), ('upostag', 'ADJ'), ('xpostag', None), ('feats', OrderedDict([('Case', 'Nom'), ('Degree', 'Pos'), ('Gender', 'Masc'), ('Number', 'Sing')])), ('head', 8), ('deprel', 'conj'), ('deps', None), ('misc', None)])\n",
            "OrderedDict([('id', 9), ('form', 'и'), ('lemma', 'и'), ('upostag', 'CCONJ'), ('xpostag', None), ('feats', None), ('head', 10), ('deprel', 'cc'), ('deps', None), ('misc', None)])\n",
            "OrderedDict([('id', 13), ('form', 'благом'), ('lemma', 'благо'), ('upostag', 'NOUN'), ('xpostag', None), ('feats', OrderedDict([('Animacy', 'Inan'), ('Case', 'Ins'), ('Gender', 'Masc'), ('Number', 'Sing')])), ('head', 12), ('deprel', 'obl'), ('deps', None), ('misc', None)])\n",
            "OrderedDict([('id', 14), ('form', 'горем'), ('lemma', 'горе'), ('upostag', 'NOUN'), ('xpostag', None), ('feats', OrderedDict([('Animacy', 'Inan'), ('Case', 'Gen'), ('Gender', 'Fem'), ('Number', 'Plur')])), ('head', 13), ('deprel', 'nmod'), ('deps', None), ('misc', None)])\n",
            "OrderedDict([('id', 15), ('form', 'страны'), ('lemma', 'страна'), ('upostag', 'NOUN'), ('xpostag', None), ('feats', OrderedDict([('Animacy', 'Inan'), ('Case', 'Gen'), ('Gender', 'Fem'), ('Number', 'Sing')])), ('head', 14), ('deprel', 'nmod'), ('deps', None), ('misc', None)])\n",
            "OrderedDict([('id', 16), ('form', '.'), ('lemma', '.'), ('upostag', 'PUNCT'), ('xpostag', None), ('feats', None), ('head', 12), ('deprel', 'punct'), ('deps', None), ('misc', OrderedDict([('SpacesAfter', '\\\\s\\\\n\\\\n')]))])\n",
            "Доставшийся пациенс\n",
            "в пациенс\n",
            "наследство пациенс\n",
            "от конечная точка\n",
            "советского срок\n",
            "периода агенс\n",
            "времени причина\n",
            "промышленный место\n",
            "и конечная точка\n",
            "интеллектуальный место\n",
            "потенциал конечная точка\n",
            "оказался конечная точка\n",
            "благом агенс\n",
            "горем конечная точка\n",
            "страны экспериенцер\n"
          ],
          "name": "stdout"
        }
      ]
    },
    {
      "cell_type": "code",
      "metadata": {
        "id": "JsCzK-mhkHDK",
        "colab_type": "code",
        "colab": {
          "base_uri": "https://localhost:8080/",
          "height": 292
        },
        "outputId": "7a44601a-d603-4c2d-ee05-e4df0aa64bca"
      },
      "source": [
        "! python classify.py"
      ],
      "execution_count": 49,
      "outputs": [
        {
          "output_type": "stream",
          "text": [
            "/usr/local/lib/python3.6/dist-packages/sklearn/externals/joblib/__init__.py:15: FutureWarning: sklearn.externals.joblib is deprecated in 0.21 and will be removed in 0.23. Please import this functionality directly from joblib, which can be installed with: pip install joblib. If this warning is raised when loading pickled models, you may need to re-serialize those models with scikit-learn 0.21+.\n",
            "  warnings.warn(msg, category=FutureWarning)\n",
            "Import data\n",
            "(2007, 4365) (2007,)\n",
            "Split data\n",
            "              precision    recall  f1-score   support\n",
            "\n",
            "     noclass       0.99      1.00      0.99       485\n",
            "    Предикат       0.92      1.00      0.96        11\n",
            "экспериенцер       0.00      0.00      0.00         6\n",
            "\n",
            "    accuracy                           0.99       502\n",
            "   macro avg       0.63      0.67      0.65       502\n",
            "weighted avg       0.97      0.99      0.98       502\n",
            "\n"
          ],
          "name": "stdout"
        }
      ]
    },
    {
      "cell_type": "code",
      "metadata": {
        "id": "MRKucETWpL0V",
        "colab_type": "code",
        "colab": {}
      },
      "source": [
        "from parser import frames"
      ],
      "execution_count": 0,
      "outputs": []
    },
    {
      "cell_type": "code",
      "metadata": {
        "id": "51YsFjkIqP63",
        "colab_type": "code",
        "colab": {
          "base_uri": "https://localhost:8080/",
          "height": 105
        },
        "outputId": "c9cabb13-345b-4dfc-9c20-6f84f75ec58c"
      },
      "source": [
        "sentence = 'Мама мыла раму'\n",
        "frames(sentence)"
      ],
      "execution_count": 53,
      "outputs": [
        {
          "output_type": "stream",
          "text": [
            "OrderedDict([('id', 2), ('form', 'мыла'), ('lemma', 'мыть'), ('upostag', 'VERB'), ('xpostag', None), ('feats', OrderedDict([('Aspect', 'Imp'), ('Gender', 'Fem'), ('Mood', 'Ind'), ('Number', 'Sing'), ('Tense', 'Past'), ('VerbForm', 'Fin'), ('Voice', 'Act')])), ('head', 0), ('deprel', 'root'), ('deps', None), ('misc', None)])\n",
            "OrderedDict([('id', 1), ('form', 'Мама'), ('lemma', 'мама'), ('upostag', 'NOUN'), ('xpostag', None), ('feats', OrderedDict([('Animacy', 'Anim'), ('Case', 'Nom'), ('Gender', 'Fem'), ('Number', 'Sing')])), ('head', 2), ('deprel', 'nsubj'), ('deps', None), ('misc', OrderedDict([('SpacesAfter', '\\\\s\\\\s\\\\s')]))])\n",
            "OrderedDict([('id', 3), ('form', 'раму'), ('lemma', 'рама'), ('upostag', 'NOUN'), ('xpostag', None), ('feats', OrderedDict([('Animacy', 'Inan'), ('Case', 'Acc'), ('Gender', 'Fem'), ('Number', 'Sing')])), ('head', 2), ('deprel', 'obj'), ('deps', None), ('misc', OrderedDict([('SpacesAfter', '\\\\s\\\\n\\\\n')]))])\n"
          ],
          "name": "stdout"
        },
        {
          "output_type": "execute_result",
          "data": {
            "text/plain": [
              "OrderedDict([('Мама', 'noclass'), ('мыла', 'noclass'), ('раму', 'noclass')])"
            ]
          },
          "metadata": {
            "tags": []
          },
          "execution_count": 53
        }
      ]
    },
    {
      "cell_type": "code",
      "metadata": {
        "id": "p8cfZQkiqzaq",
        "colab_type": "code",
        "colab": {}
      },
      "source": [
        ""
      ],
      "execution_count": 0,
      "outputs": []
    }
  ]
}
